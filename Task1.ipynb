import pandas as pd
import matplotlib.pyplot as plt
import seaborn as sns
from sklearn.model_selection import train_test_split
from sklearn.tree import DecisionTreeClassifier, plot_tree
from sklearn.metrics import accuracy_score, classification_report,confusion_matrix

# Step 1: Load Kaggle Iris Dataset (CSV)

data = pd.read_csv("C:/Users/Priyanka/Downloads/archive (2)/IRIS.csv")

# Step 2: Features (X) and Target (y)
X = data.drop(columns=["species"])   # Features
y = data["species"]     # Target


# Step 3: Train-Test Split
X_train, X_test, y_train, y_test = train_test_split(
    X, y, test_size=0.3, random_state=42
)

# Step 4: Build Decision Tree Classifier
clf = DecisionTreeClassifier(criterion="gini", max_depth=3, random_state=42)
clf.fit(X_train, y_train)

# Step 5: Predictions & Accuracy
y_pred = clf.predict(X_test)
print("Accuracy:", accuracy_score(y_test, y_pred))
print("\nClassification Report:\n", classification_report(y_test, y_pred))

# Step 6: Visualize Decision Tree
plt.figure(figsize=(12,8))
plot_tree(
    clf, 
   feature_names=X.columns, 
   class_names=clf.classes_,
   filled=True,
  rounded=True
)
plt.title("Decision Tree on Iris Dataset", fontsize=14)
plt.show()


#Step 7: Confusion Matrix + Heatmap
cm = confusion_matrix(y_test, y_pred, labels=clf.classes_)
plt.figure(figsize=(6,4))
sns.heatmap(cm, annot=True, fmt="d", cmap="Blues",
            xticklabels=clf.classes_,
            yticklabels=clf.classes_)
plt.xlabel("Predicted")
plt.ylabel("Actual")
plt.title("Confusion Matrix - Iris Dataset", fontsize=12)
plt.show()
